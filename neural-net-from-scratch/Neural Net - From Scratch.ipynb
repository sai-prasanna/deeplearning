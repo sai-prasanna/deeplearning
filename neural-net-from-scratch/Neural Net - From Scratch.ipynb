{
 "cells": [
  {
   "cell_type": "code",
   "execution_count": 182,
   "metadata": {
    "collapsed": false,
    "deletable": true,
    "editable": true
   },
   "outputs": [],
   "source": [
    "import numpy as np\n",
    "from __future__ import print_function\n",
    "import random"
   ]
  },
  {
   "cell_type": "code",
   "execution_count": 216,
   "metadata": {
    "collapsed": true,
    "deletable": true,
    "editable": true
   },
   "outputs": [],
   "source": [
    "sizes =[784, 30, 10]"
   ]
  },
  {
   "cell_type": "markdown",
   "metadata": {
    "deletable": true,
    "editable": true
   },
   "source": [
    "Build weight matrices with Transposed shape for each x, y adjacent pairs in sizes\n",
    "\n",
    "Use y,x instead of x, y as to get transposed weight matrix. \n",
    "\n",
    "In ij th element j-th neuron in l-th layer is connected to i-th neuron in (l + 1)-th layer.\n"
   ]
  },
  {
   "cell_type": "code",
   "execution_count": 217,
   "metadata": {
    "collapsed": false,
    "deletable": true,
    "editable": true
   },
   "outputs": [],
   "source": [
    "weights = [np.random.randn(y, x) for x, y in zip(sizes[:-1],sizes[1:])]"
   ]
  },
  {
   "cell_type": "code",
   "execution_count": 218,
   "metadata": {
    "collapsed": false,
    "deletable": true,
    "editable": true
   },
   "outputs": [],
   "source": [
    "#biases are for every layer except input\n",
    "\n",
    "biases = [np.random.randn(x, 1) for x in sizes[1:]] "
   ]
  },
  {
   "cell_type": "code",
   "execution_count": 219,
   "metadata": {
    "collapsed": true,
    "deletable": true,
    "editable": true
   },
   "outputs": [],
   "source": [
    "no_of_layers = len(sizes)"
   ]
  },
  {
   "cell_type": "code",
   "execution_count": 187,
   "metadata": {
    "collapsed": true,
    "deletable": true,
    "editable": true
   },
   "outputs": [],
   "source": [
    "def sigmoid(z):\n",
    "    \"\"\"The sigmoid function.\"\"\"\n",
    "    return 1.0/(1.0 + np.exp(-z))\n",
    "\n",
    "# Derivative of activation function\n",
    "def sigmoid_prime(z):\n",
    "    \"\"\"The sigmoid function.\"\"\"\n",
    "    return sigmoid(z)*(1-sigmoid(z))"
   ]
  },
  {
   "cell_type": "code",
   "execution_count": 197,
   "metadata": {
    "collapsed": true,
    "deletable": true,
    "editable": true
   },
   "outputs": [],
   "source": [
    "def feed_forward(activation):\n",
    "    \"\"\"Get output of neural net for given input\"\"\"\n",
    "    global weights, biases\n",
    "    for w,b in zip(weights, biases):\n",
    "        activation = sigmoid(np.dot(w, activation) + b) \n",
    "        # we do w . a because w is transposed weight matrix, \n",
    "        # as each row in w which represent each weight in layer l+1 gets multiplied with\n",
    "        # activations of neurons in layer l and added up\n",
    "    return activation"
   ]
  },
  {
   "cell_type": "code",
   "execution_count": 207,
   "metadata": {
    "collapsed": true,
    "deletable": true,
    "editable": true
   },
   "outputs": [],
   "source": [
    "def SGD(training_data, epochs, mini_batch_size, learning_rate, test_data=None):\n",
    "    global weights, biases\n",
    "    if test_data: test_len = len(test_data)\n",
    "    train_len = len(training_data)\n",
    "    for i in xrange(epochs):\n",
    "        random.shuffle(training_data)\n",
    "        mini_batches = [training_data[k:k+mini_batch_size] for k in range(0,train_len,mini_batch_size)]\n",
    "        for mini_batch in mini_batches:\n",
    "            update_mini_batch(mini_batch, learning_rate)\n",
    "        if test_data:\n",
    "            print(\"Epoch {0} : {1} accuracy in {2} test\".format(\n",
    "                i, evaluate(test_data), test_len))\n",
    "        else:\n",
    "            print(\"Epoch {0} complete\".format(i))"
   ]
  },
  {
   "cell_type": "code",
   "execution_count": 199,
   "metadata": {
    "collapsed": true,
    "deletable": true,
    "editable": true
   },
   "outputs": [],
   "source": [
    "def update_mini_batch(mini_batch, learning_rate):\n",
    "    global weights, biases\n",
    "\n",
    "    grad_batch_w = [np.zeros(w.shape) for w in weights]\n",
    "    grad_batch_b = [np.zeros(b.shape) for b in biases]\n",
    "    for x,y in mini_batch:\n",
    "        delta_w, delta_b = back_prop(x, y)\n",
    "        grad_batch_w = [gw + dgw for gw, dgw in zip(grad_batch_w, delta_w)]\n",
    "        grad_batch_b = [gb + dgb for gb, dgb in zip(grad_batch_b, delta_b)]\n",
    "    weights = [w - (learning_rate/len(mini_batch)) * gw for w, gw in zip(weights, grad_batch_w)]\n",
    "    biases = [b - (learning_rate/len(mini_batch)) * gb for b, gb in zip(biases, grad_batch_b)]"
   ]
  },
  {
   "cell_type": "code",
   "execution_count": 200,
   "metadata": {
    "collapsed": true,
    "deletable": true,
    "editable": true
   },
   "outputs": [],
   "source": [
    "def back_prop(x, y):\n",
    "    global weights, biases\n",
    "\n",
    "    grad_w = [np.zeros(w.shape) for w in weights]\n",
    "    grad_b = [np.zeros(b.shape) for b in biases]\n",
    "    activations = [x]\n",
    "    activation = x\n",
    "    weighted_sums = []\n",
    "    for b,w in zip(biases, weights):\n",
    "        z  = np.dot(w, activation) + b\n",
    "        weighted_sums.append(z)\n",
    "        activation = sigmoid(z)\n",
    "        activations.append(activation)\n",
    "    \n",
    "    delta = (activations[-1] - y)* sigmoid_prime(weighted_sums[-1])\n",
    "    grad_b[-1] = delta\n",
    "    grad_w[-1] = np.dot(delta, activations[-2].transpose())\n",
    "    \n",
    "    for l in xrange(2, no_of_layers):\n",
    "        z = weighted_sums[-l]\n",
    "        z_prime = sigmoid_prime(z)\n",
    "        delta = np.dot(weights[-l+1].transpose(), delta) * z_prime\n",
    "        grad_b[-l] = delta\n",
    "        grad_w[-l] = np.dot(delta, activations[-l-1].transpose())\n",
    "    return (grad_w, grad_b)"
   ]
  },
  {
   "cell_type": "code",
   "execution_count": 201,
   "metadata": {
    "collapsed": true
   },
   "outputs": [],
   "source": [
    "def evaluate(test_data):\n",
    "    test_results = [(np.argmax(feed_forward(x)), y) for (x,y) in test_data]\n",
    "    return sum(int(x == y) for (x, y) in test_results)\n",
    "    "
   ]
  },
  {
   "cell_type": "code",
   "execution_count": 202,
   "metadata": {
    "collapsed": false
   },
   "outputs": [],
   "source": [
    "import mnist_loader\n"
   ]
  },
  {
   "cell_type": "code",
   "execution_count": 215,
   "metadata": {
    "collapsed": false
   },
   "outputs": [],
   "source": [
    "training_data, validation_data, test_data = mnist_loader.load_data_wrapper()"
   ]
  },
  {
   "cell_type": "code",
   "execution_count": 220,
   "metadata": {
    "collapsed": false
   },
   "outputs": [
    {
     "name": "stdout",
     "output_type": "stream",
     "text": [
      "Epoch 0 : 9113 accuracy in 10000 test\n",
      "Epoch 1 : 9269 accuracy in 10000 test\n",
      "Epoch 2 : 9274 accuracy in 10000 test\n",
      "Epoch 3 : 9386 accuracy in 10000 test\n",
      "Epoch 4 : 9398 accuracy in 10000 test\n",
      "Epoch 5 : 9413 accuracy in 10000 test\n",
      "Epoch 6 : 9458 accuracy in 10000 test\n",
      "Epoch 7 : 9440 accuracy in 10000 test\n",
      "Epoch 8 : 9455 accuracy in 10000 test\n",
      "Epoch 9 : 9460 accuracy in 10000 test\n",
      "Epoch 10 : 9465 accuracy in 10000 test\n",
      "Epoch 11 : 9453 accuracy in 10000 test\n",
      "Epoch 12 : 9480 accuracy in 10000 test\n",
      "Epoch 13 : 9485 accuracy in 10000 test\n",
      "Epoch 14 : 9509 accuracy in 10000 test\n",
      "Epoch 15 : 9481 accuracy in 10000 test\n",
      "Epoch 16 : 9494 accuracy in 10000 test\n",
      "Epoch 17 : 9493 accuracy in 10000 test\n",
      "Epoch 18 : 9506 accuracy in 10000 test\n",
      "Epoch 19 : 9494 accuracy in 10000 test\n",
      "Epoch 20 : 9505 accuracy in 10000 test\n",
      "Epoch 21 : 9485 accuracy in 10000 test\n",
      "Epoch 22 : 9476 accuracy in 10000 test\n",
      "Epoch 23 : 9502 accuracy in 10000 test\n",
      "Epoch 24 : 9497 accuracy in 10000 test\n",
      "Epoch 25 : 9500 accuracy in 10000 test\n",
      "Epoch 26 : 9485 accuracy in 10000 test\n",
      "Epoch 27 : 9507 accuracy in 10000 test\n",
      "Epoch 28 : 9529 accuracy in 10000 test\n",
      "Epoch 29 : 9500 accuracy in 10000 test\n"
     ]
    }
   ],
   "source": [
    "SGD(training_data, 30, 10, 3.0, test_data=test_data)"
   ]
  },
  {
   "cell_type": "code",
   "execution_count": 62,
   "metadata": {
    "collapsed": false
   },
   "outputs": [
    {
     "data": {
      "text/plain": [
       "(50000, 784)"
      ]
     },
     "execution_count": 62,
     "metadata": {},
     "output_type": "execute_result"
    }
   ],
   "source": []
  },
  {
   "cell_type": "code",
   "execution_count": 211,
   "metadata": {
    "collapsed": false
   },
   "outputs": [],
   "source": [
    "import random\n",
    "\n",
    "# Third-party libraries\n",
    "import numpy as np\n",
    "\n",
    "class Network(object):\n",
    "\n",
    "    def __init__(self, sizes):\n",
    "        \"\"\"The list ``sizes`` contains the number of neurons in the\n",
    "        respective layers of the network.  For example, if the list\n",
    "        was [2, 3, 1] then it would be a three-layer network, with the\n",
    "        first layer containing 2 neurons, the second layer 3 neurons,\n",
    "        and the third layer 1 neuron.  The biases and weights for the\n",
    "        network are initialized randomly, using a Gaussian\n",
    "        distribution with mean 0, and variance 1.  Note that the first\n",
    "        layer is assumed to be an input layer, and by convention we\n",
    "        won't set any biases for those neurons, since biases are only\n",
    "        ever used in computing the outputs from later layers.\"\"\"\n",
    "        self.num_layers = len(sizes)\n",
    "        self.sizes = sizes\n",
    "        self.biases = [np.random.randn(y, 1) for y in sizes[1:]]\n",
    "        self.weights = [np.random.randn(y, x)\n",
    "                        for x, y in zip(sizes[:-1], sizes[1:])]\n",
    "\n",
    "    def feedforward(self, a):\n",
    "        \"\"\"Return the output of the network if ``a`` is input.\"\"\"\n",
    "        for b, w in zip(self.biases, self.weights):\n",
    "            a = sigmoid(np.dot(w, a)+b)\n",
    "        return a\n",
    "\n",
    "    def SGD(self, training_data, epochs, mini_batch_size, eta,\n",
    "            test_data=None):\n",
    "        \"\"\"Train the neural network using mini-batch stochastic\n",
    "        gradient descent.  The ``training_data`` is a list of tuples\n",
    "        ``(x, y)`` representing the training inputs and the desired\n",
    "        outputs.  The other non-optional parameters are\n",
    "        self-explanatory.  If ``test_data`` is provided then the\n",
    "        network will be evaluated against the test data after each\n",
    "        epoch, and partial progress printed out.  This is useful for\n",
    "        tracking progress, but slows things down substantially.\"\"\"\n",
    "        if test_data: n_test = len(test_data)\n",
    "        n = len(training_data)\n",
    "        for j in xrange(epochs):\n",
    "            random.shuffle(training_data)\n",
    "            mini_batches = [\n",
    "                training_data[k:k+mini_batch_size]\n",
    "                for k in xrange(0, n, mini_batch_size)]\n",
    "            for mini_batch in mini_batches:\n",
    "                self.update_mini_batch(mini_batch, eta)\n",
    "            if test_data:\n",
    "                print(\"Epoch {0}: {1} / {2}\".format(\n",
    "                    j, self.evaluate(test_data), n_test))\n",
    "            else:\n",
    "                print(\"Epoch {0} complete\".format(j))\n",
    "\n",
    "    def update_mini_batch(self, mini_batch, eta):\n",
    "        \"\"\"Update the network's weights and biases by applying\n",
    "        gradient descent using backpropagation to a single mini batch.\n",
    "        The ``mini_batch`` is a list of tuples ``(x, y)``, and ``eta``\n",
    "        is the learning rate.\"\"\"\n",
    "        nabla_b = [np.zeros(b.shape) for b in self.biases]\n",
    "        nabla_w = [np.zeros(w.shape) for w in self.weights]\n",
    "        for x, y in mini_batch:\n",
    "            delta_nabla_b, delta_nabla_w = self.backprop(x, y)\n",
    "            nabla_b = [nb+dnb for nb, dnb in zip(nabla_b, delta_nabla_b)]\n",
    "            nabla_w = [nw+dnw for nw, dnw in zip(nabla_w, delta_nabla_w)]\n",
    "        self.weights = [w-(eta/len(mini_batch))*nw\n",
    "                        for w, nw in zip(self.weights, nabla_w)]\n",
    "        self.biases = [b-(eta/len(mini_batch))*nb\n",
    "                       for b, nb in zip(self.biases, nabla_b)]\n",
    "\n",
    "    def backprop(self, x, y):\n",
    "        \"\"\"Return a tuple ``(nabla_b, nabla_w)`` representing the\n",
    "        gradient for the cost function C_x.  ``nabla_b`` and\n",
    "        ``nabla_w`` are layer-by-layer lists of numpy arrays, similar\n",
    "        to ``self.biases`` and ``self.weights``.\"\"\"\n",
    "        nabla_b = [np.zeros(b.shape) for b in self.biases]\n",
    "        nabla_w = [np.zeros(w.shape) for w in self.weights]\n",
    "        # feedforward\n",
    "        activation = x\n",
    "        activations = [x] # list to store all the activations, layer by layer\n",
    "        zs = [] # list to store all the z vectors, layer by layer\n",
    "        for b, w in zip(self.biases, self.weights):\n",
    "            z = np.dot(w, activation)+b\n",
    "            zs.append(z)\n",
    "            activation = sigmoid(z)\n",
    "            activations.append(activation)\n",
    "        # backward pass\n",
    "        delta = self.cost_derivative(activations[-1], y) * \\\n",
    "            sigmoid_prime(zs[-1])\n",
    "        nabla_b[-1] = delta\n",
    "        nabla_w[-1] = np.dot(delta, activations[-2].transpose())\n",
    "        # Note that the variable l in the loop below is used a little\n",
    "        # differently to the notation in Chapter 2 of the book.  Here,\n",
    "        # l = 1 means the last layer of neurons, l = 2 is the\n",
    "        # second-last layer, and so on.  It's a renumbering of the\n",
    "        # scheme in the book, used here to take advantage of the fact\n",
    "        # that Python can use negative indices in lists.\n",
    "        for l in xrange(2, self.num_layers):\n",
    "            z = zs[-l]\n",
    "            sp = sigmoid_prime(z)\n",
    "            delta = np.dot(self.weights[-l+1].transpose(), delta) * sp\n",
    "            nabla_b[-l] = delta\n",
    "            nabla_w[-l] = np.dot(delta, activations[-l-1].transpose())\n",
    "        return (nabla_b, nabla_w)\n",
    "\n",
    "    def evaluate(self, test_data):\n",
    "        \"\"\"Return the number of test inputs for which the neural\n",
    "        network outputs the correct result. Note that the neural\n",
    "        network's output is assumed to be the index of whichever\n",
    "        neuron in the final layer has the highest activation.\"\"\"\n",
    "        test_results = [(np.argmax(self.feedforward(x)), y)\n",
    "                        for (x, y) in test_data]\n",
    "        return sum(int(x == y) for (x, y) in test_results)\n",
    "\n",
    "    def cost_derivative(self, output_activations, y):\n",
    "        \"\"\"Return the vector of partial derivatives \\partial C_x /\n",
    "        \\partial a for the output activations.\"\"\"\n",
    "        return (output_activations-y)\n",
    "\n",
    "#### Miscellaneous functions\n",
    "def sigmoid(z):\n",
    "    \"\"\"The sigmoid function.\"\"\"\n",
    "    return 1.0/(1.0+np.exp(-z))\n",
    "\n",
    "def sigmoid_prime(z):\n",
    "    \"\"\"Derivative of the sigmoid function.\"\"\"\n",
    "    return sigmoid(z)*(1-sigmoid(z))"
   ]
  },
  {
   "cell_type": "code",
   "execution_count": 223,
   "metadata": {
    "collapsed": false
   },
   "outputs": [],
   "source": [
    "net = Network([784, 30, 10])"
   ]
  },
  {
   "cell_type": "code",
   "execution_count": 224,
   "metadata": {
    "collapsed": false
   },
   "outputs": [
    {
     "name": "stdout",
     "output_type": "stream",
     "text": [
      "Epoch 0: 9113 / 10000\n",
      "Epoch 1: 9220 / 10000\n",
      "Epoch 2: 9284 / 10000\n",
      "Epoch 3: 9379 / 10000\n",
      "Epoch 4: 9316 / 10000\n",
      "Epoch 5: 9328 / 10000\n",
      "Epoch 6: 9381 / 10000\n",
      "Epoch 7: 9427 / 10000\n",
      "Epoch 8: 9414 / 10000\n",
      "Epoch 9: 9434 / 10000\n",
      "Epoch 10: 9421 / 10000\n",
      "Epoch 11: 9468 / 10000\n",
      "Epoch 12: 9415 / 10000\n",
      "Epoch 13: 9477 / 10000\n",
      "Epoch 14: 9444 / 10000\n",
      "Epoch 15: 9462 / 10000\n",
      "Epoch 16: 9465 / 10000\n",
      "Epoch 17: 9442 / 10000\n",
      "Epoch 18: 9494 / 10000\n",
      "Epoch 19: 9450 / 10000\n",
      "Epoch 20: 9483 / 10000\n",
      "Epoch 21: 9475 / 10000\n",
      "Epoch 22: 9508 / 10000\n",
      "Epoch 23: 9502 / 10000\n",
      "Epoch 24: 9506 / 10000\n",
      "Epoch 25: 9473 / 10000\n",
      "Epoch 26: 9457 / 10000\n",
      "Epoch 27: 9470 / 10000\n",
      "Epoch 28: 9498 / 10000\n",
      "Epoch 29: 9498 / 10000\n"
     ]
    }
   ],
   "source": [
    "net.SGD(training_data, 30, 10, 3.0, test_data=test_data)"
   ]
  },
  {
   "cell_type": "code",
   "execution_count": null,
   "metadata": {
    "collapsed": true
   },
   "outputs": [],
   "source": []
  }
 ],
 "metadata": {
  "kernelspec": {
   "display_name": "Python [conda root]",
   "language": "python",
   "name": "conda-root-py"
  },
  "language_info": {
   "codemirror_mode": {
    "name": "ipython",
    "version": 2
   },
   "file_extension": ".py",
   "mimetype": "text/x-python",
   "name": "python",
   "nbconvert_exporter": "python",
   "pygments_lexer": "ipython2",
   "version": "2.7.12"
  }
 },
 "nbformat": 4,
 "nbformat_minor": 2
}
